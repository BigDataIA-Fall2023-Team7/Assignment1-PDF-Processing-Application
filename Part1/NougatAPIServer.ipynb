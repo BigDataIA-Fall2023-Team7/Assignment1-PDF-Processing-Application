{
  "cells": [
    {
      "cell_type": "markdown",
      "source": [
        "# Setup Ngrok and NougatOCR Dependencies"
      ],
      "metadata": {
        "id": "JdwbVOxHE9KD"
      }
    },
    {
      "cell_type": "code",
      "source": [
        "#Download dependencies for Ngrok\n",
        "!sudo apt-get update\n",
        "!sudo apt-get install jq\n",
        "!wget https://bin.equinox.io/c/bNyj1mQVY4c/ngrok-v3-stable-linux-amd64.tgz\n",
        "!tar -xvzf ngrok-v3-stable-linux-amd64.tgz"
      ],
      "metadata": {
        "id": "2Pfhjx50IZo7"
      },
      "execution_count": null,
      "outputs": []
    },
    {
      "cell_type": "code",
      "execution_count": null,
      "metadata": {
        "id": "MqBonq2R1LnH"
      },
      "outputs": [],
      "source": [
        "#Download and install Nougat package\n",
        "!pip install nougat-ocr -qq"
      ]
    },
    {
      "cell_type": "code",
      "execution_count": null,
      "metadata": {
        "id": "xBnbmvIswQ43"
      },
      "outputs": [],
      "source": [
        "#Connect you Google Drive which has folder 'MyDrive/DAMG7245_Fall2023/Assignment1' with ngrok_authtoken.txt file\n",
        "from google.colab import drive\n",
        "drive.mount('/content/drive')"
      ]
    },
    {
      "cell_type": "code",
      "execution_count": null,
      "metadata": {
        "id": "G4JaT4fPupVZ"
      },
      "outputs": [],
      "source": [
        "import shutil\n",
        "import subprocess\n",
        "\n",
        "#Edit this path to match your google drive location\n",
        "#Please upload the ngrok authoken in file 'ngrok_authtoken.txt' to that drive location before running this Colab\n",
        "path_to_project_drive_folder = '/content/drive/MyDrive/DAMG7245_Fall2023/Assignment1'\n",
        "destination_colab_runtime_drive = '/content/'\n",
        "shutil.copy(path_to_project_drive_folder + '/ngrok_authtoken.txt', destination_colab_runtime_drive)\n",
        "\n",
        "with open('ngrok_authtoken.txt') as file:\n",
        "  ngrokAuthToken = file.read()\n",
        "\n",
        "linux_command = f'chmod +x ngrok'\n",
        "subprocess.run(linux_command, shell=True, check=True)\n",
        "\n",
        "linux_command = f'./ngrok config add-authtoken {ngrokAuthToken} &'\n",
        "a = subprocess.run(linux_command, shell=True, check=True)"
      ]
    },
    {
      "cell_type": "markdown",
      "source": [
        "# Running the Nougat API Server on Public URL"
      ],
      "metadata": {
        "id": "MmLfjgq1FFZL"
      }
    },
    {
      "cell_type": "code",
      "source": [
        "#Run this until you see the public URL\n",
        "#Command to get hold of public URL to access Nougat API over Colab\n",
        "linux_command = f'./ngrok http 8503 &'\n",
        "subprocess.run(linux_command, shell=True, check=True)\n",
        "!curl -s http://localhost:4040/api/tunnels | jq -r '.tunnels[0].public_url'"
      ],
      "metadata": {
        "id": "pdfxoUHUE6xD"
      },
      "execution_count": null,
      "outputs": []
    },
    {
      "cell_type": "code",
      "execution_count": null,
      "metadata": {
        "id": "6jP3GElF2aVb"
      },
      "outputs": [],
      "source": [
        "#Running the Nougat API Server\n",
        "!nougat_api"
      ]
    },
    {
      "cell_type": "code",
      "source": [
        "# Incase the Nougat API Server port is not closed properly\n",
        "#!lsof -i :8503"
      ],
      "metadata": {
        "id": "6auJGwtwV3C1"
      },
      "execution_count": null,
      "outputs": []
    },
    {
      "cell_type": "code",
      "source": [
        "# Incase the Nougat API Server port is not closed properly\n",
        "# !sudo kill -9 4108"
      ],
      "metadata": {
        "id": "rrlziO0HV5Nk"
      },
      "execution_count": null,
      "outputs": []
    }
  ],
  "metadata": {
    "colab": {
      "provenance": [],
      "collapsed_sections": [
        "JdwbVOxHE9KD"
      ],
      "toc_visible": true,
      "gpuType": "T4"
    },
    "kernelspec": {
      "display_name": "Python 3",
      "name": "python3"
    },
    "language_info": {
      "name": "python"
    },
    "accelerator": "GPU"
  },
  "nbformat": 4,
  "nbformat_minor": 0
}